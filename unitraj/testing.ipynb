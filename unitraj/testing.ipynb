{
 "cells": [
  {
   "cell_type": "code",
   "execution_count": 4,
   "metadata": {},
   "outputs": [
    {
     "name": "stdout",
     "output_type": "stream",
     "text": [
      "Loading training data...\n",
      "Using 12 processes to load data...\n",
      "0/92 data processed\n",
      "9/92 data processed\n",
      "18/92 data processed\n",
      "27/92 data processed\n",
      "36/92 data processed\n",
      "45/92 data processed\n",
      "54/92 data processed\n",
      "63/92 data processed\n",
      "72/92 data processed\n",
      "81/92 data processed\n",
      "90/92 data processed\n",
      "Loaded 1152 samples from /home/erik/raid/datasets/vod/scenarionet_vod_train\n",
      "Data loaded\n",
      "<datasets.MTR_dataset.MTRDataset object at 0x74de88504d90>\n",
      "['scene-4_pdbdndxk5bioeio9j5mrnjtnkld7zkdq_exmod3o5z408xvch1fzy95d1ka1p83t4', 'scene-4_nirqje5jrd15vre4krmof0k6qii8a91j_exmod3o5z408xvch1fzy95d1ka1p83t4', 'scene-4_d3snvf8e9oa23m88hyhjtlt08bc610du_yta0ktsuiezqxcgki5ccrn44as3tp40j', 'scene-4_rtfu5sq9gy51y99n0mihy9yo3hh8th02_0h6hwv8gl56v72w5btvkyd4vbu9dhxi7', 'scene-4_rtfu5sq9gy51y99n0mihy9yo3hh8th02_23c9v5c5q29a44kwrxlrf6byx6sg8g2s', 'scene-4_rtfu5sq9gy51y99n0mihy9yo3hh8th02_v6q99erkcs1uhh9c53iwdtv84pwefqza', 'scene-4_rtfu5sq9gy51y99n0mihy9yo3hh8th02_vuw0xkac8rz677815go9c6a7ko8psc67', 'scene-4_4rodstjt8hgq0zg4vfsu9mnrks1i4gow_101ksf5qik8mbjrw1nk3mm0lzgw8xtqa', 'scene-4_61g6jqcs18749qtov0q40ddl5ajcimnm_avtgzhz6tfbom498cfrdds5zr9lkbk2v', 'scene-4_61g6jqcs18749qtov0q40ddl5ajcimnm_mtvcm5xq219vbgr9swlh11gilni0859z', 'scene-4_61g6jqcs18749qtov0q40ddl5ajcimnm_7zg134dbh0a18ut803glz5k5aso5gzkp', 'scene-4_61g6jqcs18749qtov0q40ddl5ajcimnm_8m7a1g9gqn1mejw88z7oof11pwb4kxlq', 'scene-4_61g6jqcs18749qtov0q40ddl5ajcimnm_78s4wb5onhz40qgw3cnb0017qu55dkh1', 'scene-4_61g6jqcs18749qtov0q40ddl5ajcimnm_x33bjdjomt09ri2kbzu2agfeh0uqc3rw', 'scene-4_61g6jqcs18749qtov0q40ddl5ajcimnm_1tg3alfyvvq2mrwuk9vmnzmqg6s4a00n', 'scene-4_61g6jqcs18749qtov0q40ddl5ajcimnm_zw78xqicehz0c9dqnux4glbhbch2q6op', 'scene-6_wfy1eaamjuimrwijlhb0hbes757u39sq_ehdiw9yevbhuovptlwaf1hhe06a1dh8f', 'scene-6_ullkyyo8oiweq2fhdmy3vqdnweoazcyb_ehdiw9yevbhuovptlwaf1hhe06a1dh8f', 'scene-6_7c9ke10qnidbhdfwvtxpfamte0mlevv2_ehdiw9yevbhuovptlwaf1hhe06a1dh8f', 'scene-6_7c9ke10qnidbhdfwvtxpfamte0mlevv2_plbkat45c4faz5dp9vp226pjem3b1ap1', 'scene-6_7c9ke10qnidbhdfwvtxpfamte0mlevv2_4suy9z2lbc1cxe3j38aqkloxessoso7j', 'scene-6_7c9ke10qnidbhdfwvtxpfamte0mlevv2_gv4kc3rmfok5j76b40tkvklas2wpnm2u', 'scene-6_7c9ke10qnidbhdfwvtxpfamte0mlevv2_7qkwrvymxcao4nr9vievu1c8mli6t7t0', 'scene-6_gi37o2lj9qtho49ggoznzftqfm1q9qq2_ehdiw9yevbhuovptlwaf1hhe06a1dh8f', 'scene-3_nokp2w77ounsyam89gmpq4tu96pwbxbm_d0pvth127vobrtuy3w6e9zpitnmua8wf', 'scene-3_nokp2w77ounsyam89gmpq4tu96pwbxbm_iv6gxyutv8j4n3lbqh16mrkrh7ubs7da', 'scene-3_nokp2w77ounsyam89gmpq4tu96pwbxbm_rpbq4ftl5iawfmwsgsh1hffj7qju0fzl', 'scene-3_nokp2w77ounsyam89gmpq4tu96pwbxbm_hf1yffwnsbujti1012071ad39l6hzaqh', 'scene-3_nokp2w77ounsyam89gmpq4tu96pwbxbm_rlmof3w1em1mhhxywxte39d89vv5zpqh', 'scene-3_nokp2w77ounsyam89gmpq4tu96pwbxbm_7dec5nq8ldrxax5ni0zmdw0jw2jin4bg', 'scene-3_nokp2w77ounsyam89gmpq4tu96pwbxbm_ux6n7jfw2bx0tyiwz2lna6uurso0tro4', 'scene-3_nokp2w77ounsyam89gmpq4tu96pwbxbm_g47wl461ambbtwgk2g03fyep4cg6hgb2', 'scene-11_1u87hxuzpb7p760bjvegqt0kp4qja3d5_s3wmnu6ehko4af3ka3fwzw979ontjo33', 'scene-11_1u87hxuzpb7p760bjvegqt0kp4qja3d5_7w1alqjjaoqalamumn5r3ewedx1ejwld', 'scene-11_1u87hxuzpb7p760bjvegqt0kp4qja3d5_9ktc526n5uci033vrcnqp32twkpwqq78', 'scene-11_1u87hxuzpb7p760bjvegqt0kp4qja3d5_7b621rvu86gt148tn0p6r9t4w8efd4xi', 'scene-11_1u87hxuzpb7p760bjvegqt0kp4qja3d5_k189vjku842n8ear3gizfgzvrmcfdp9u', 'scene-11_1u87hxuzpb7p760bjvegqt0kp4qja3d5_uv8ql41ea1ry4btnu0nzvmo1w488rhuy', 'scene-11_1u87hxuzpb7p760bjvegqt0kp4qja3d5_o6swx9xgkgyx1nyc7sjb4zuv0gdggngu', 'scene-11_1u87hxuzpb7p760bjvegqt0kp4qja3d5_84xj4wogpr1y3qnz3b2pr5459lz1b6vw']\n",
      "dict_keys(['scenario_id', 'obj_trajs', 'obj_trajs_mask', 'track_index_to_predict', 'obj_trajs_pos', 'obj_trajs_last_pos', 'center_objects_world', 'center_objects_id', 'center_objects_type', 'map_center', 'obj_trajs_future_state', 'obj_trajs_future_mask', 'center_gt_trajs', 'center_gt_trajs_mask', 'center_gt_final_valid_idx', 'center_gt_trajs_src', 'map_polylines', 'map_polylines_mask', 'map_polylines_center', 'dataset_name', 'kalman_difficulty', 'trajectory_type'])\n",
      "scene-4_pdbdndxk5bioeio9j5mrnjtnkld7zkdq_exmod3o5z408xvch1fzy95d1ka1p83t4\n",
      "torch.Size([30, 4])\n"
     ]
    }
   ],
   "source": [
    "import hydra\n",
    "from datasets import build_dataset\n",
    "from torch.utils.data import DataLoader\n",
    "from omegaconf import OmegaConf\n",
    "from utils.utils import set_seed\n",
    "import sys\n",
    "import os\n",
    "\n",
    "#@hydra.main(version_base=None, config_path=\"configs\", config_name=\"config\")\n",
    "def test(cfg):\n",
    "    #set_seed(cfg.seed)\n",
    "    #OmegaConf.set_struct(cfg, False)  # Open the struct\n",
    "    #cfg = OmegaConf.merge(cfg, cfg.method)\n",
    "    train_set = build_dataset(cfg)\n",
    "    print(train_set)\n",
    "    train_loader = DataLoader(\n",
    "        train_set, batch_size=5, num_workers=cfg.load_num_workers, drop_last=False,\n",
    "        collate_fn=train_set.collate_fn)\n",
    "    it = iter(train_loader)\n",
    "    first = next(it)\n",
    "    print(first['input_dict']['scenario_id'])\n",
    "    print(first['input_dict'].keys())\n",
    "    print(first['input_dict']['scenario_id'][0])\n",
    "    print(first['input_dict']['center_gt_trajs'][0].shape)\n",
    "cfg = OmegaConf.load(\"/home/erik/gitprojects/UniTraj/unitraj/configs/config.yaml\")\n",
    "cfg.method = OmegaConf.load(\"/home/erik/gitprojects/UniTraj/unitraj/configs/method/MTR.yaml\")\n",
    "cfg = OmegaConf.merge(cfg, cfg.method)\n",
    "test(cfg)\n",
    "    "
   ]
  },
  {
   "cell_type": "code",
   "execution_count": null,
   "metadata": {},
   "outputs": [],
   "source": []
  }
 ],
 "metadata": {
  "kernelspec": {
   "display_name": "scenarionet310",
   "language": "python",
   "name": "python3"
  },
  "language_info": {
   "codemirror_mode": {
    "name": "ipython",
    "version": 3
   },
   "file_extension": ".py",
   "mimetype": "text/x-python",
   "name": "python",
   "nbconvert_exporter": "python",
   "pygments_lexer": "ipython3",
   "version": "3.10.12"
  }
 },
 "nbformat": 4,
 "nbformat_minor": 2
}
